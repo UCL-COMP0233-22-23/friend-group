{
 "cells": [
  {
   "cell_type": "markdown",
   "id": "f21f00a0",
   "metadata": {},
   "source": [
    "# Friend group mapping"
   ]
  },
  {
   "cell_type": "code",
   "execution_count": null,
   "id": "c6e8b4ae",
   "metadata": {},
   "outputs": [],
   "source": [
    "group = {\n",
    "    \"Jill\": {\n",
    "        \"age\": 26,\n",
    "        \"job\": \"biologist\",\n",
    "        \"relations\": {\n",
    "            \"Zalika\": \"friend\",\n",
    "            \"John\": \"partner\"\n",
    "        }\n",
    "    },\n",
    "    \"Zalika\": {\n",
    "        \"age\": 28,\n",
    "        \"job\": \"artist\",\n",
    "        \"relations\": {\n",
    "            \"Jill\": \"friend\"\n",
    "        }\n",
    "    },\n",
    "    \"John\": {\n",
    "        \"age\": 27,\n",
    "        \"job\": \"writer\",\n",
    "        \"relations\": {\n",
    "            \"Jill\": \"partner\"\n",
    "        }\n",
    "    },\n",
    "    \"Nash\": {\n",
    "        \"age\": 34,\n",
    "        \"job\": \"chef\",\n",
    "        \"relations\": {\n",
    "            \"John\": \"cousin\",\n",
    "            \"Zalika\": \"landlord\"\n",
    "        }\n",
    "    }\n",
    "}"
   ]
  }
 ],
 "metadata": {
  "kernelspec": {
   "display_name": "Python 3 (ipykernel)",
   "language": "python",
   "name": "python3"
  },
  "language_info": {
   "codemirror_mode": {
    "name": "ipython",
    "version": 3
   },
   "file_extension": ".py",
   "mimetype": "text/x-python",
   "name": "python",
   "nbconvert_exporter": "python",
   "pygments_lexer": "ipython3",
   "version": "3.9.12"
  }
 },
 "nbformat": 4,
 "nbformat_minor": 5
}
